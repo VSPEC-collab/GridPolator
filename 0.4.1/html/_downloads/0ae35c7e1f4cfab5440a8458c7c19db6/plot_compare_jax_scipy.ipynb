{
  "cells": [
    {
      "cell_type": "markdown",
      "metadata": {},
      "source": [
        "\n# Compare `JAX` and `Scipy`\n\nThis example compares the `JAX` and `Scipy` implementations of the\ninterpolation backend.\n"
      ]
    },
    {
      "cell_type": "code",
      "execution_count": null,
      "metadata": {
        "collapsed": false
      },
      "outputs": [],
      "source": [
        "import jax.numpy as jnp\nimport numpy as np\nfrom time import time\nimport matplotlib.pyplot as plt\nfrom astropy import units as u\n\nfrom GridPolator import GridSpectra"
      ]
    },
    {
      "cell_type": "markdown",
      "metadata": {},
      "source": [
        "## First let's get the spectra\n\n"
      ]
    },
    {
      "cell_type": "code",
      "execution_count": null,
      "metadata": {
        "collapsed": false
      },
      "outputs": [],
      "source": [
        "w1 = 5 * u.um\nw2 = 12 * u.um\nresolving_power = 100\nteffs = [2800,2900,3000,3100,3200,3300]\nimpl_bin = 'rust'\n\ng_jax = GridSpectra.from_vspec(\n    w1=w1,\n    w2=w2,\n    resolving_power=resolving_power,\n    teffs=teffs,\n    impl_bin=impl_bin,\n    impl_interp='jax',\n    fail_on_missing=False\n)\ng_scipy = GridSpectra.from_vspec(\n    w1=w1,\n    w2=w2,\n    resolving_power=resolving_power,\n    teffs=teffs,\n    impl_bin=impl_bin,\n    impl_interp='scipy',\n    fail_on_missing=False\n)"
      ]
    },
    {
      "cell_type": "markdown",
      "metadata": {},
      "source": [
        "## Evaluate a single spectrum\n\n"
      ]
    },
    {
      "cell_type": "code",
      "execution_count": null,
      "metadata": {
        "collapsed": false
      },
      "outputs": [],
      "source": [
        "wl_jnp = jnp.linspace(5.0, 11.2, 100)\nwl_np = np.linspace(5.0, 11.2, 100)\nparams_jnp = (jnp.array([2900.]),)\nparams_np = (np.array([2900.]),)\n\nstart = time()\nflux_jnp = g_jax.evaluate(params_jnp, wl_jnp)\nend = time()\nprint(f'JAX took {end - start} seconds')\n\nstart = time()\nflux_np = g_scipy.evaluate(params_np, wl_np)\nend = time()\nprint(f'Scipy took {end - start} seconds')"
      ]
    },
    {
      "cell_type": "markdown",
      "metadata": {},
      "source": [
        "## Now do 1000 of each\n\n"
      ]
    },
    {
      "cell_type": "code",
      "execution_count": null,
      "metadata": {
        "collapsed": false
      },
      "outputs": [],
      "source": [
        "N = 1000\nstart = time()\nfor _ in range(N):\n    flux_jnp = g_jax.evaluate(params_jnp, wl_jnp)\nend = time()\nprint(f'JAX took {end - start} seconds\\n\\tthat\\'s {(end - start) / 1000} seconds per call')\n\nstart = time()\nfor _ in range(N):\n    flux_np = g_scipy.evaluate(params_np, wl_np)\nend = time()\nprint (f'Scipy took {end - start} seconds\\n\\tthat\\'s {(end - start) / 1000} seconds per call')"
      ]
    },
    {
      "cell_type": "markdown",
      "metadata": {},
      "source": [
        "## QED\n\nThe takeaway: The first JAX call is expensive, the rest are cheap. For Scipy everything costs the same.\nOf course, the costs change depending on the complexity of the grid.\n\n"
      ]
    },
    {
      "cell_type": "code",
      "execution_count": null,
      "metadata": {
        "collapsed": false
      },
      "outputs": [],
      "source": [
        "fig, ax  = plt.subplots(1,1,figsize=(4,3))\n\nN=3000\n\ng_jax = GridSpectra.from_vspec(\n    w1=w1,\n    w2=w2,\n    resolving_power=resolving_power,\n    teffs=teffs,\n    impl_bin=impl_bin,\n    impl_interp='jax',\n    fail_on_missing=False\n)\ng_scipy = GridSpectra.from_vspec(\n    w1=w1,\n    w2=w2,\n    resolving_power=resolving_power,\n    teffs=teffs,\n    impl_bin=impl_bin,\n    impl_interp='scipy',\n    fail_on_missing=False\n)\n\ndt_jax = np.zeros(N)\n\nfor i in range(N):\n    start = time()\n    flux_jnp = g_jax.evaluate(params_jnp, wl_jnp)\n    end = time()\n    dt_jax[i] = end - start\n\ndt_scipy = np.zeros(N)\n\nfor i in range(N):\n    start = time()\n    flux_np = g_scipy.evaluate(params_np, wl_np)\n    end = time()\n    dt_scipy[i] = end - start\n\nx = np.arange(N)\n\nax.plot(x, np.cumsum(dt_jax), label='JAX',c='#B96EBD')\nax.plot(x, np.cumsum(dt_scipy), label='Scipy',c='#0054A6')\nax.set_xlabel('Iteration')\nax.set_ylabel('Time (s)')\nfig.tight_layout()\n_=ax.legend()"
      ]
    }
  ],
  "metadata": {
    "kernelspec": {
      "display_name": "Python 3",
      "language": "python",
      "name": "python3"
    },
    "language_info": {
      "codemirror_mode": {
        "name": "ipython",
        "version": 3
      },
      "file_extension": ".py",
      "mimetype": "text/x-python",
      "name": "python",
      "nbconvert_exporter": "python",
      "pygments_lexer": "ipython3",
      "version": "3.11.9"
    }
  },
  "nbformat": 4,
  "nbformat_minor": 0
}