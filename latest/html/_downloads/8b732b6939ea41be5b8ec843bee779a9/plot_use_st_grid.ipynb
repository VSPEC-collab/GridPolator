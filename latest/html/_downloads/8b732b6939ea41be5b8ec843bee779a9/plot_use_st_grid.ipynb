{
  "cells": [
    {
      "cell_type": "markdown",
      "metadata": {},
      "source": [
        "\n# Use the STScI PHOENIX grid\n\nThis example shows how to use the ST grid.\n"
      ]
    },
    {
      "cell_type": "code",
      "execution_count": null,
      "metadata": {
        "collapsed": false
      },
      "outputs": [],
      "source": [
        "from astropy import units as u\nimport numpy as np\nimport matplotlib.pyplot as plt\n\nfrom GridPolator import GridSpectra\nfrom GridPolator import config"
      ]
    },
    {
      "cell_type": "markdown",
      "metadata": {},
      "source": [
        "## Load the PHOENIX grid\nLoad the default VSPEC PHOENIX grid.\n\n"
      ]
    },
    {
      "cell_type": "code",
      "execution_count": null,
      "metadata": {
        "collapsed": false
      },
      "outputs": [],
      "source": [
        "wave_short = 1*u.um\nwave_long = 2*u.um\nresolving_power = 100\nteffs = [3000,3100]\nmetalicities = [-1.0,-0.5]\nloggs = [3.5,4.0]\n\nspec = GridSpectra.from_st(\n    w1=wave_short,\n    w2=wave_long,\n    resolving_power=resolving_power,\n    teffs=teffs,\n    metalicities=metalicities,\n    loggs=loggs,\n    impl_bin='rust',\n    impl_interp='scipy',\n)"
      ]
    },
    {
      "cell_type": "markdown",
      "metadata": {},
      "source": [
        "## Recall a spectrum from the grid\n``GridSpectra`` will resample the grid with your supplied\nwavelength array as well as interpolate between $T_{eff}$ values.\n\n"
      ]
    },
    {
      "cell_type": "code",
      "execution_count": null,
      "metadata": {
        "collapsed": false
      },
      "outputs": [],
      "source": [
        "low_res:u.Quantity = np.linspace(1.2,1.8,20) * u.um\nhi_res:u.Quantity = np.linspace(1.2,1.8,200) * u.um\nteff = np.array([3050.])\nmetalicity = np.array([-0.6])\nlogg = np.array([3.7])\n\nlow_res = np.array(low_res.to_value(config.wl_unit))\nhi_res = np.array(hi_res.to_value(config.wl_unit))\n\nflux_lo = spec.evaluate((teff,metalicity,logg), low_res)[0]\nflux_hi = spec.evaluate((teff,metalicity,logg), hi_res)[0]\n\nplt.plot(low_res, flux_lo)\nplt.plot(hi_res, flux_hi)\nplt.xlabel(f'Wavelength ({config.wl_unit:latex})')\n_=plt.ylabel(f'Flux ({config.flux_unit:latex})')"
      ]
    }
  ],
  "metadata": {
    "kernelspec": {
      "display_name": "Python 3",
      "language": "python",
      "name": "python3"
    },
    "language_info": {
      "codemirror_mode": {
        "name": "ipython",
        "version": 3
      },
      "file_extension": ".py",
      "mimetype": "text/x-python",
      "name": "python",
      "nbconvert_exporter": "python",
      "pygments_lexer": "ipython3",
      "version": "3.11.9"
    }
  },
  "nbformat": 4,
  "nbformat_minor": 0
}