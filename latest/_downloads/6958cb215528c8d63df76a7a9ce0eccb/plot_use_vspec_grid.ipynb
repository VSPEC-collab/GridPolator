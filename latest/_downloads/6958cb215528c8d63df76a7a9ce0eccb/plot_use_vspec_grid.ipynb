{
  "cells": [
    {
      "cell_type": "markdown",
      "metadata": {},
      "source": [
        "\n# Use the VSPEC PHOENIX grid\n\nThis example shows how to use the VSPEC grid.\n"
      ]
    },
    {
      "cell_type": "code",
      "execution_count": null,
      "metadata": {
        "collapsed": false
      },
      "outputs": [],
      "source": [
        "from astropy import units as u\nimport numpy as np\nfrom jax import numpy as jnp\nimport matplotlib.pyplot as plt\n\nfrom GridPolator import GridSpectra\nfrom GridPolator import config"
      ]
    },
    {
      "cell_type": "markdown",
      "metadata": {},
      "source": [
        "## Load the PHOENIX grid\nLoad the default VSPEC PHOENIX grid.\n\n"
      ]
    },
    {
      "cell_type": "code",
      "execution_count": null,
      "metadata": {
        "collapsed": false
      },
      "outputs": [],
      "source": [
        "wave_short = 1*u.um\nwave_long = 10*u.um\nresolving_power = 100\nteffs = [3000,3100,3200]\n\nspec = GridSpectra.from_vspec(\n    w1=wave_short,\n    w2=wave_long,\n    resolving_power=resolving_power,\n    teffs=teffs\n)"
      ]
    },
    {
      "cell_type": "markdown",
      "metadata": {},
      "source": [
        "## Recall a spectrum from the grid\n``GridSpectra`` will resample the grid with your supplied\nwavelength array as well as interpolate between $T_{eff}$ values.\n\n"
      ]
    },
    {
      "cell_type": "code",
      "execution_count": null,
      "metadata": {
        "collapsed": false
      },
      "outputs": [],
      "source": [
        "new_wl:u.Quantity = np.linspace(2,5,40) * u.um\nteff = 3050 * u.K\n\nnew_wl = jnp.array(new_wl.to_value(config.wl_unit))\nteff = jnp.array([teff.to_value(config.teff_unit)])\n\nflux = spec.evaluate((teff,), new_wl)[0]\n\nplt.plot(new_wl, flux)\nplt.xlabel(f'Wavelength ({config.wl_unit:latex})')\n_=plt.ylabel(f'Flux ({config.flux_unit:latex})')"
      ]
    }
  ],
  "metadata": {
    "kernelspec": {
      "display_name": "Python 3",
      "language": "python",
      "name": "python3"
    },
    "language_info": {
      "codemirror_mode": {
        "name": "ipython",
        "version": 3
      },
      "file_extension": ".py",
      "mimetype": "text/x-python",
      "name": "python",
      "nbconvert_exporter": "python",
      "pygments_lexer": "ipython3",
      "version": "3.11.9"
    }
  },
  "nbformat": 4,
  "nbformat_minor": 0
}