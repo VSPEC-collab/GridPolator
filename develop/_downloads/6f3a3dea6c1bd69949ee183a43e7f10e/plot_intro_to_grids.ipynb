{
  "cells": [
    {
      "cell_type": "markdown",
      "metadata": {},
      "source": [
        "\n# Intro to Grids\n\nA basic introduction to the `GridSpectra` class.\n"
      ]
    },
    {
      "cell_type": "code",
      "execution_count": null,
      "metadata": {
        "collapsed": false
      },
      "outputs": [],
      "source": [
        "import numpy as np\nimport matplotlib.pyplot as plt\n\nfrom GridPolator import GridSpectra"
      ]
    },
    {
      "cell_type": "markdown",
      "metadata": {},
      "source": [
        "## Let's create our own grid\n\nLet's think of something that can be created programically but it also simple to visualize.\nImagine the class of functions:\n\n\\begin{align}y = a x (x-b)\\end{align}\n\nThere are two parameters, $a$ and $b$, and the graph always passes through\nthe origin.\n\nSuppose we want to know the value of this function with $a ~ [-3,3]$ and\n$b ~[-5,5]$.\nSuppose also that each \"spectrum\" has some expensive physics in it, so we don't want to calculate too many,\nbut a high resolution in $x$ is okay.\n\n"
      ]
    },
    {
      "cell_type": "code",
      "execution_count": null,
      "metadata": {
        "collapsed": false
      },
      "outputs": [],
      "source": [
        "a = np.linspace(-3, 3, 7)\nb = np.linspace(-5, 5, 9)\nx = np.linspace(1, 10, 1000)\n\nspec = np.zeros(shape=(len(a), len(b), len(x)))\n\nfor i,_a in enumerate(a):\n    for j,_b in enumerate(b):\n        _s = _a * x * (x - _b)\n        spec[i, j, :] = _s"
      ]
    },
    {
      "cell_type": "markdown",
      "metadata": {},
      "source": [
        "## Initialize the interpolator\n\nWe now pass all of this information to the `GridSpectra` class.\n\n"
      ]
    },
    {
      "cell_type": "code",
      "execution_count": null,
      "metadata": {
        "collapsed": false
      },
      "outputs": [],
      "source": [
        "g = GridSpectra(\n    native_wl=x,\n    params={\n        'a': a,\n        'b': b\n    },\n    spectra=spec,\n    impl='scipy' # or 'jax', see docs for more\n)"
      ]
    },
    {
      "cell_type": "markdown",
      "metadata": {},
      "source": [
        "## Evaluate\n\nWe pass the interpolator a new wavelength grid along with new parameters and it will interpolate\nto give us a new spectrum.\n\n"
      ]
    },
    {
      "cell_type": "code",
      "execution_count": null,
      "metadata": {
        "collapsed": false
      },
      "outputs": [],
      "source": [
        "new_wl = np.linspace(2,8,50)\n__a = 1.5\n__b = -2.3\nnew_spec = g.evaluate(\n    (\n        np.array([__a]),\n        np.array([__b])\n        ),\n    new_wl\n)[0]\ntrue_spec = __a * new_wl * (new_wl - __b)\n\nfig,axes = plt.subplots(2,1,figsize=(5,6))\nax = axes[0]\nrax = axes[1]\nfig.subplots_adjust(left=0.3)\nax.plot(new_wl, new_spec, label='interpolated',c='xkcd:rose pink')\nax.plot(new_wl, true_spec, label='true',c='xkcd:azure')\nrax.plot(new_wl, (new_spec - true_spec)/true_spec*1e6, label='difference (ppm)',c='xkcd:golden rod')\nax.set_xlabel('wavelength')\nrax.set_xlabel('wavelength')\nax.set_ylabel('flux')\nrax.set_ylabel('residual (ppm)')\n_=ax.legend()"
      ]
    }
  ],
  "metadata": {
    "kernelspec": {
      "display_name": "Python 3",
      "language": "python",
      "name": "python3"
    },
    "language_info": {
      "codemirror_mode": {
        "name": "ipython",
        "version": 3
      },
      "file_extension": ".py",
      "mimetype": "text/x-python",
      "name": "python",
      "nbconvert_exporter": "python",
      "pygments_lexer": "ipython3",
      "version": "3.11.9"
    }
  },
  "nbformat": 4,
  "nbformat_minor": 0
}